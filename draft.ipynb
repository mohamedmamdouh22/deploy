{
 "cells": [
  {
   "cell_type": "code",
   "execution_count": 1,
   "metadata": {},
   "outputs": [],
   "source": [
    "import time\n",
    "from utils import *"
   ]
  },
  {
   "cell_type": "code",
   "execution_count": 2,
   "metadata": {},
   "outputs": [
    {
     "name": "stderr",
     "output_type": "stream",
     "text": [
      "Using cache found in C:\\Users\\Pc/.cache\\torch\\hub\\XingangPan_IBN-Net_master\n",
      "Using cache found in C:\\Users\\Pc/.cache\\torch\\hub\\XingangPan_IBN-Net_master\n"
     ]
    },
    {
     "name": "stdout",
     "output_type": "stream",
     "text": [
      "Models are loaded in device: cuda\n"
     ]
    }
   ],
   "source": [
    "# example\n",
    "top_left = (75, 200)  # Replace with your top-left coordinates\n",
    "bottom_right = (1205, 600)  # Replace with your bottom-right coordinates\n",
    "skip_frames, min_width, min_height, batch_size = 3 , 50 , 80 , 32\n",
    "video_path = 'video.mp4'\n",
    "\n",
    "model, yolo = load_models()"
   ]
  },
  {
   "cell_type": "code",
   "execution_count": null,
   "metadata": {},
   "outputs": [],
   "source": [
    "# start_time = time.time()\n",
    "# emb = video_embeddings(video_path, model, yolo, top_left, bottom_right, skip_frames=3)\n",
    "# end_time = time.time()"
   ]
  },
  {
   "cell_type": "code",
   "execution_count": 10,
   "metadata": {},
   "outputs": [
    {
     "name": "stdout",
     "output_type": "stream",
     "text": [
      "13.513341188430786\n"
     ]
    }
   ],
   "source": [
    "# print(end_time - start_time)"
   ]
  },
  {
   "cell_type": "code",
   "execution_count": 19,
   "metadata": {},
   "outputs": [
    {
     "name": "stdout",
     "output_type": "stream",
     "text": [
      "tensor([1, 2, 3, 4, 5, 6])\n"
     ]
    }
   ],
   "source": [
    "# print(len(results))\n",
    "# print(type(feature_vector_imgs[0]))\n",
    "# print(db.keys())\n",
    "\n",
    "# ======================\n",
    "\n",
    "# tensor = torch.tensor([10, 40 ,30], dtype=torch.float32)\n",
    "# print(F.normalize(tensor, dim=0)) # norm cols\n",
    "# print(F.normalize(tensor, dim=1)) # norm rows\n",
    "\n",
    "# =======================\n",
    "\n",
    "# t1 = torch.tensor([1,2,3])\n",
    "# t2 = torch.tensor([4,5,6])\n",
    "# l = [t1, t2]\n",
    "# print(torch.cat(l,0))\n",
    "# # print(torch.cat(l,1)) # error"
   ]
  },
  {
   "cell_type": "code",
   "execution_count": 7,
   "metadata": {},
   "outputs": [],
   "source": [
    "import os\n",
    "from PIL import Image\n",
    "from torch.utils.data import DataLoader\n",
    "from globals import data_transform\n",
    "import torch.nn.functional as F\n",
    "from image import ImageFolderDataset\n",
    "\n",
    "# Example of using the dataloader in a loop\n",
    "g_images = []\n",
    "gallery = {}\n",
    "gallery_path = 'test_gallery\\sample_video'"
   ]
  },
  {
   "cell_type": "code",
   "execution_count": 8,
   "metadata": {},
   "outputs": [],
   "source": []
  },
  {
   "cell_type": "code",
   "execution_count": 9,
   "metadata": {},
   "outputs": [
    {
     "data": {
      "text/plain": [
       "(0, 0)"
      ]
     },
     "execution_count": 9,
     "metadata": {},
     "output_type": "execute_result"
    }
   ],
   "source": [
    "len(g_images), len(gallery)"
   ]
  },
  {
   "cell_type": "code",
   "execution_count": 10,
   "metadata": {},
   "outputs": [],
   "source": [
    "# gallery_embeddings(gallery_path, model, g_images, gallery)"
   ]
  },
  {
   "cell_type": "code",
   "execution_count": 11,
   "metadata": {},
   "outputs": [
    {
     "data": {
      "text/plain": [
       "(207, 207)"
      ]
     },
     "execution_count": 11,
     "metadata": {},
     "output_type": "execute_result"
    }
   ],
   "source": [
    "# len(g_images), len(gallery)"
   ]
  },
  {
   "cell_type": "code",
   "execution_count": null,
   "metadata": {},
   "outputs": [],
   "source": []
  }
 ],
 "metadata": {
  "kernelspec": {
   "display_name": "base",
   "language": "python",
   "name": "python3"
  },
  "language_info": {
   "codemirror_mode": {
    "name": "ipython",
    "version": 3
   },
   "file_extension": ".py",
   "mimetype": "text/x-python",
   "name": "python",
   "nbconvert_exporter": "python",
   "pygments_lexer": "ipython3",
   "version": "3.11.5"
  }
 },
 "nbformat": 4,
 "nbformat_minor": 2
}
